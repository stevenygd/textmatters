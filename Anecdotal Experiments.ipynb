{
 "cells": [
  {
   "cell_type": "code",
   "execution_count": 1,
   "metadata": {
    "collapsed": false
   },
   "outputs": [
    {
     "name": "stdout",
     "output_type": "stream",
     "text": [
      "/Users/Grendel/Desktop/ML/textmatters/coco-text\n"
     ]
    },
    {
     "data": {
      "text/plain": [
       "'/Users/Grendel/Desktop/ML/textmatters'"
      ]
     },
     "execution_count": 1,
     "metadata": {},
     "output_type": "execute_result"
    }
   ],
   "source": [
    "# Imports \n",
    "CWD = %pwd\n",
    "CWD = str(CWD)\n",
    "\n",
    "import json\n",
    "from six.moves import cPickle\n",
    "import os\n",
    "import sys\n",
    "import statistics\n",
    "\n",
    "from IPython.core.display import HTML \n",
    "from IPython.core.display import Image, display, display_pretty\n",
    "\n",
    "import matplotlib\n",
    "import numpy as np\n",
    "import matplotlib.pyplot as plt\n",
    "import pipeline\n",
    "\n",
    "\n",
    "%matplotlib inline  \n",
    "\n",
    "\n",
    "CWD"
   ]
  },
  {
   "cell_type": "code",
   "execution_count": 21,
   "metadata": {
    "collapsed": false
   },
   "outputs": [
    {
     "data": {
      "text/plain": [
       "(40775, 80, 82081, 80)"
      ]
     },
     "execution_count": 21,
     "metadata": {},
     "output_type": "execute_result"
    }
   ],
   "source": [
    "\"\"\"\n",
    "Load instances data, build dictionaries:\n",
    "    1. [categories]     : mapping from category id to category information\n",
    "    2. [images]         : mapping from coco image id to the information of the image\n",
    "    3. [img_instances]  : mapping from coco img id to a list of instances information\n",
    "    4. [instance_imgs]  : mapping from category id to a list of image id that contains the instances\n",
    "\"\"\"\n",
    "COCO_PATH = os.path.join(CWD, 'data', 'coco')\n",
    "COCO_ANNOTATION_PATH = os.path.join(COCO_PATH, 'annotations')\n",
    "\n",
    "coco_info = json.load(open(os.path.join(COCO_ANNOTATION_PATH, 'image_info_test2014.json')))\n",
    "categories = {}\n",
    "category_names = {}\n",
    "images = {}\n",
    "for cate in coco_info['categories']:\n",
    "    categories[cate['id']] = cate\n",
    "    category_names[cate['name']] = cate\n",
    "    \n",
    "for img_info in coco_info['images']:\n",
    "    images[img_info['id']] = img_info\n",
    "\n",
    "data = json.load(open(os.path.join(COCO_ANNOTATION_PATH, 'instances_train2014.json')))\n",
    "img_instances = {}\n",
    "instance_imgs = {}\n",
    "for note in data['annotations']:\n",
    "    img_id = note['image_id']\n",
    "    cate_id = note['category_id']\n",
    "    \n",
    "    if img_id not in img_instances:\n",
    "        img_instances[img_id] = []\n",
    "    img_instances[img_id].append(note)\n",
    "    \n",
    "\n",
    "    if cate_id not in instance_imgs:\n",
    "        instance_imgs[cate_id] = []\n",
    "    instance_imgs[cate_id].append(img_id)\n",
    "\n",
    "len(images), len(categories), len(img_instances), len(instance_imgs)"
   ]
  },
  {
   "cell_type": "code",
   "execution_count": 29,
   "metadata": {
    "collapsed": false
   },
   "outputs": [
    {
     "name": "stdout",
     "output_type": "stream",
     "text": [
      "Available categories:\n",
      "[u'toilet', u'teddy bear', u'cup', u'bicycle', u'kite', u'carrot', u'stop sign', u'tennis racket', u'donut', u'snowboard', u'sandwich', u'motorcycle', u'oven', u'keyboard', u'scissors', u'airplane', u'couch', u'mouse', u'fire hydrant', u'boat', u'apple', u'sheep', u'horse', u'banana', u'baseball glove', u'tv', u'traffic light', u'chair', u'bowl', u'microwave', u'bench', u'book', u'elephant', u'orange', u'tie', u'clock', u'bird', u'knife', u'pizza', u'fork', u'hair drier', u'frisbee', u'umbrella', u'bottle', u'bus', u'bear', u'vase', u'toothbrush', u'spoon', u'train', u'sink', u'potted plant', u'handbag', u'cell phone', u'toaster', u'broccoli', u'refrigerator', u'laptop', u'remote', u'surfboard', u'cow', u'dining table', u'hot dog', u'car', u'sports ball', u'skateboard', u'dog', u'bed', u'cat', u'person', u'skis', u'giraffe', u'truck', u'parking meter', u'suitcase', u'cake', u'wine glass', u'baseball bat', u'backpack', u'zebra']\n",
      "Saved 2873 number of images for toilet\n",
      "Saved 3442 number of images for teddy bear\n",
      "Saved 14513 number of images for cup\n",
      "Saved 4955 number of images for bicycle\n",
      "Saved 6560 number of images for kite\n",
      "Saved 5539 number of images for carrot\n",
      "Saved 1372 number of images for stop sign\n",
      "Saved 3411 number of images for tennis racket\n",
      "Saved 4977 number of images for donut\n",
      "Saved 1960 number of images for snowboard\n",
      "Saved 3089 number of images for sandwich\n",
      "Saved 6021 number of images for motorcycle\n",
      "Saved 2302 number of images for oven\n",
      "Saved 1980 number of images for keyboard\n",
      "Saved 1073 number of images for scissors\n",
      "Saved 3833 number of images for airplane\n",
      "Saved 4113 number of images for couch\n",
      "Saved 1517 number of images for mouse\n",
      "Saved 1316 number of images for fire hydrant\n",
      "Saved 7590 number of images for boat\n",
      "Saved 4308 number of images for apple\n",
      "Saved 6654 number of images for sheep\n",
      "Saved 4666 number of images for horse\n",
      "Saved 6912 number of images for banana\n",
      "Saved 2689 number of images for baseball glove\n",
      "Saved 4036 number of images for tv\n",
      "Saved 9159 number of images for traffic light\n",
      "Saved 27147 number of images for chair\n",
      "Saved 10064 number of images for bowl\n",
      "Saved 1189 number of images for microwave\n",
      "Saved 6751 number of images for bench\n",
      "Saved 17315 number of images for book\n",
      "Saved 3905 number of images for elephant\n",
      "Saved 4597 number of images for orange\n",
      "Saved 4497 number of images for tie\n",
      "Saved 4328 number of images for clock\n",
      "Saved 7290 number of images for bird\n",
      "Saved 5536 number of images for knife\n",
      "Saved 4001 number of images for pizza\n",
      "Saved 3918 number of images for fork\n",
      "Saved 135 number of images for hair drier\n",
      "Saved 1862 number of images for frisbee\n",
      "Saved 7865 number of images for umbrella\n",
      "Saved 16983 number of images for bottle\n",
      "Saved 4327 number of images for bus\n",
      "Saved 903 number of images for bear\n",
      "Saved 4623 number of images for vase\n",
      "Saved 1377 number of images for toothbrush\n",
      "Saved 4287 number of images for spoon\n",
      "Saved 3159 number of images for train\n",
      "Saved 3933 number of images for sink\n",
      "Saved 5918 number of images for potted plant\n",
      "Saved 8778 number of images for handbag\n",
      "Saved 4460 number of images for cell phone\n",
      "Saved 156 number of images for toaster\n",
      "Saved 4927 number of images for broccoli\n",
      "Saved 1875 number of images for refrigerator\n",
      "Saved 3415 number of images for laptop\n",
      "Saved 4122 number of images for remote\n",
      "Saved 4161 number of images for surfboard\n",
      "Saved 5686 number of images for cow\n",
      "Saved 11167 number of images for dining table\n",
      "Saved 2023 number of images for hot dog\n",
      "Saved 30785 number of images for car\n",
      "Saved 4392 number of images for sports ball\n",
      "Saved 4012 number of images for skateboard\n",
      "Saved 3774 number of images for dog\n",
      "Saved 2905 number of images for bed\n",
      "Saved 3301 number of images for cat\n",
      "Saved 185316 number of images for person\n",
      "Saved 4698 number of images for skis\n",
      "Saved 3596 number of images for giraffe\n",
      "Saved 7050 number of images for truck\n",
      "Saved 833 number of images for parking meter\n",
      "Saved 4251 number of images for suitcase\n",
      "Saved 4551 number of images for cake\n",
      "Saved 5618 number of images for wine glass\n",
      "Saved 2400 number of images for baseball bat\n",
      "Saved 6200 number of images for backpack\n",
      "Saved 3685 number of images for zebra\n"
     ]
    }
   ],
   "source": [
    "\"\"\"\n",
    "Generate the images ids for anecdotal studies\n",
    "\"\"\"\n",
    "import pipeline\n",
    "print \"Available categories:\\n%s\"%[k for k,_ in category_names.iteritems()]\n",
    "def gen_imgid_for_cate(name):\n",
    "    if name not in category_names:\n",
    "        print \"Category %s doesn't exist\"%name\n",
    "        return\n",
    "    \n",
    "    img_lst = instance_imgs[category_names[name]['id']]\n",
    "    underscore_name = name.replace(' ','_')\n",
    "    pipeline.makePickle('%s_img_ids'%underscore_name, img_lst)\n",
    "    print \"Saved %d number of images for %s\"%(len(img_lst), name)\n",
    "\n",
    "for name,_ in category_names.iteritems():    \n",
    "    gen_imgid_for_cate(name)"
   ]
  },
  {
   "cell_type": "code",
   "execution_count": 25,
   "metadata": {
    "collapsed": false
   },
   "outputs": [
    {
     "data": {
      "text/plain": [
       "4328"
      ]
     },
     "execution_count": 25,
     "metadata": {},
     "output_type": "execute_result"
    }
   ],
   "source": []
  },
  {
   "cell_type": "code",
   "execution_count": 19,
   "metadata": {
    "collapsed": false
   },
   "outputs": [
    {
     "data": {
      "text/plain": [
       "[u'person',\n",
       " u'bicycle',\n",
       " u'car',\n",
       " u'motorcycle',\n",
       " u'airplane',\n",
       " u'bus',\n",
       " u'train',\n",
       " u'truck',\n",
       " u'boat',\n",
       " u'traffic light',\n",
       " u'fire hydrant',\n",
       " u'stop sign',\n",
       " u'parking meter',\n",
       " u'bench',\n",
       " u'bird',\n",
       " u'cat',\n",
       " u'dog',\n",
       " u'horse',\n",
       " u'sheep',\n",
       " u'cow',\n",
       " u'elephant',\n",
       " u'bear',\n",
       " u'zebra',\n",
       " u'giraffe',\n",
       " u'backpack',\n",
       " u'umbrella',\n",
       " u'handbag',\n",
       " u'tie',\n",
       " u'suitcase',\n",
       " u'frisbee',\n",
       " u'skis',\n",
       " u'snowboard',\n",
       " u'sports ball',\n",
       " u'kite',\n",
       " u'baseball bat',\n",
       " u'baseball glove',\n",
       " u'skateboard',\n",
       " u'surfboard',\n",
       " u'tennis racket',\n",
       " u'bottle',\n",
       " u'wine glass',\n",
       " u'cup',\n",
       " u'fork',\n",
       " u'knife',\n",
       " u'spoon',\n",
       " u'bowl',\n",
       " u'banana',\n",
       " u'apple',\n",
       " u'sandwich',\n",
       " u'orange',\n",
       " u'broccoli',\n",
       " u'carrot',\n",
       " u'hot dog',\n",
       " u'pizza',\n",
       " u'donut',\n",
       " u'cake',\n",
       " u'chair',\n",
       " u'couch',\n",
       " u'potted plant',\n",
       " u'bed',\n",
       " u'dining table',\n",
       " u'toilet',\n",
       " u'tv',\n",
       " u'laptop',\n",
       " u'mouse',\n",
       " u'remote',\n",
       " u'keyboard',\n",
       " u'cell phone',\n",
       " u'microwave',\n",
       " u'oven',\n",
       " u'toaster',\n",
       " u'sink',\n",
       " u'refrigerator',\n",
       " u'book',\n",
       " u'clock',\n",
       " u'vase',\n",
       " u'scissors',\n",
       " u'teddy bear',\n",
       " u'hair drier',\n",
       " u'toothbrush']"
      ]
     },
     "execution_count": 19,
     "metadata": {},
     "output_type": "execute_result"
    }
   ],
   "source": []
  },
  {
   "cell_type": "code",
   "execution_count": null,
   "metadata": {
    "collapsed": true
   },
   "outputs": [],
   "source": []
  }
 ],
 "metadata": {
  "kernelspec": {
   "display_name": "Python 2",
   "language": "python",
   "name": "python2"
  },
  "language_info": {
   "codemirror_mode": {
    "name": "ipython",
    "version": 2
   },
   "file_extension": ".py",
   "mimetype": "text/x-python",
   "name": "python",
   "nbconvert_exporter": "python",
   "pygments_lexer": "ipython2",
   "version": "2.7.10"
  }
 },
 "nbformat": 4,
 "nbformat_minor": 0
}
