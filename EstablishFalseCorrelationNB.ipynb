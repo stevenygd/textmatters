{
 "cells": [
  {
   "cell_type": "code",
   "execution_count": 3,
   "metadata": {
    "collapsed": false
   },
   "outputs": [
    {
     "name": "stdout",
     "output_type": "stream",
     "text": [
      "loading annotations into memory...\n",
      "Done (t=18.12s)\n",
      "creating index...\n",
      "index created!\n"
     ]
    }
   ],
   "source": [
    "CWD = %pwd\n",
    "CWD = str(CWD)\n",
    "import sys\n",
    "import json\n",
    "from six.moves import cPickle\n",
    "import os\n",
    "import statistics\n",
    "from collections import defaultdict,Iterable\n",
    "\n",
    "from IPython.core.display import HTML \n",
    "from IPython.core.display import Image, display, display_pretty\n",
    "\n",
    "import numpy as np\n",
    "from scipy import misc, polyfit, stats\n",
    "import scipy\n",
    "import matplotlib.pyplot as plt\n",
    "import PIL\n",
    "# from PIL import Image\n",
    "%matplotlib inline  \n",
    "import re\n",
    "\n",
    "COCO_PATH = os.path.join(CWD,'data','coco')\n",
    "COCO_ANNO_PATH = os.path.join(COCO_PATH, 'annotations')\n",
    "sys.path.insert(0, os.path.join(CWD, 'coco', 'PythonAPI'))\n",
    "from pycocotools.coco import COCO,mask\n",
    "coco = COCO(os.path.join(COCO_ANNO_PATH,'instances_train2014.json'))"
   ]
  },
  {
   "cell_type": "code",
   "execution_count": 4,
   "metadata": {
    "collapsed": true
   },
   "outputs": [],
   "source": [
    "\"\"\"\n",
    "Load Coco data\n",
    "\"\"\"\n",
    "\n",
    "# load the data from captions\n",
    "with open(COCO_ANNO_PATH + '/captions_train2014.json') as f:\n",
    "    coco_captions = json.load(f)\n",
    "# print len(coco_captions)\n",
    "# with open(COCO_ANNO_PATH + 'captions_val2014.json') as f:\n",
    "#     coco_captions =  dict(coco_captions.items() + json.load(f).items())\n",
    "# print len(coco_captions)\n",
    "\n",
    "# build the reverse dictionary, from img_id to captions, img_infos, and annotations\n",
    "img_captions = {}\n",
    "for img_info in coco_captions['images']:\n",
    "    mid = str(img_info['id'])\n",
    "    if not mid in img_captions:\n",
    "        img_captions[mid] = {}\n",
    "    img_captions[mid]['image'] = img_info\n",
    "\n",
    "for cap_info in coco_captions['annotations']:\n",
    "    mid = str(cap_info['image_id'])\n",
    "    if not 'annotation' in img_captions[mid]:\n",
    "        img_captions[mid]['annotation'] = []\n",
    "        img_captions[mid]['captions'] = []\n",
    "    img_captions[mid]['annotation'].append(cap_info)\n",
    "    img_captions[mid]['captions'].append(cap_info['caption'])"
   ]
  },
  {
   "cell_type": "code",
   "execution_count": 15,
   "metadata": {
    "collapsed": false
   },
   "outputs": [
    {
     "name": "stdout",
     "output_type": "stream",
     "text": [
      "22644\n"
     ]
    }
   ],
   "source": [
    "from nltk.corpus import stopwords\n",
    "sw = [x.upper() for x in stopwords.words('english')]\n",
    "\n",
    "caps = [ c.replace(\".\",\" \").replace(\",\",\" \").upper() for _,x in img_captions.iteritems() for c in x['captions']]\n",
    "break_words = \" \".join(caps).split(\" \")\n",
    "all_words = list(set([x for x in break_words if x.isalnum() and x not in sw]))\n",
    "assert(len(all_words) < 22775)\n",
    "print len(all_words)\n",
    "\n"
   ]
  },
  {
   "cell_type": "code",
   "execution_count": 16,
   "metadata": {
    "collapsed": false
   },
   "outputs": [],
   "source": [
    "word_idx = {}\n",
    "for idx in range(len(all_words)):\n",
    "    word_idx[all_words[idx]] = idx\n",
    "assert(len(word_idx) == len(all_words))"
   ]
  },
  {
   "cell_type": "code",
   "execution_count": 19,
   "metadata": {
    "collapsed": false
   },
   "outputs": [],
   "source": [
    "\"\"\"\n",
    "1. Count word_idx -> frequency\n",
    "2. Count word_idx_1, word_idx_2 -> coexistence frequency\n",
    "3. Compute conditional probablity: (coexistence frenquency)/(word frequency)\n",
    "\"\"\"\n",
    "freq   = np.zeros(len(all_words),                   dtype=np.float64)\n",
    "comatx = np.zeros((len(all_words), len(all_words)), dtype=np.float64)\n",
    "for _, data in img_captions.iteritems():\n",
    "    for cap in data['captions']:\n",
    "        # get all the word ides\n",
    "        cap = cap.replace(\".\",\" \").replace(\",\",\" \").upper()\n",
    "        cap_words_idx = set([word_idx[x] for x in cap.split(\" \") if x.isalnum() and x not in sw])\n",
    "        \n",
    "        # increment frequency map\n",
    "        for widx in cap_words_idx:\n",
    "            freq[widx] += 1\n",
    "            \n",
    "        # increment coexistence map\n",
    "        for widx in cap_words_idx:\n",
    "            for vidx in cap_words_idx:\n",
    "                comatx[widx,vidx] += 1\n",
    "            \n",
    "prob_mat = comatx / freq\n",
    "\n",
    "assert(np.allclose(np.diagonal(prob_mat), np.ones(len(all_words))))\n",
    "assert(len(freq[freq>0]) == len(all_words))"
   ]
  },
  {
   "cell_type": "code",
   "execution_count": 32,
   "metadata": {
    "collapsed": false
   },
   "outputs": [
    {
     "name": "stdout",
     "output_type": "stream",
     "text": [
      "0.000279648455061 2350789.0 14232419.0 0.000279648455061\n"
     ]
    },
    {
     "data": {
      "text/plain": [
       "9.713101611228111e-05"
      ]
     },
     "execution_count": 32,
     "metadata": {},
     "output_type": "execute_result"
    }
   ],
   "source": [
    "def cond_prob(w1, given = None):\n",
    "    if given == None: return 1\n",
    "    w1idx = word_idx[w1.upper()]\n",
    "    w2idx = word_idx[given.upper()]\n",
    "    return prob_mat[w1idx, w2idx]\n",
    "\n",
    "# high_cond_prob = [x for x in all_words for y in all_words if x != y and cond_prob(x,given=y) > 0.8]\n",
    "# len(high_cond_prob)\n",
    "print np.mean(prob_mat), np.sum(freq), np.sum(comatx), np.mean(prob_mat)\n",
    "# print len(prob_mat[prob_mat>0.0])\n",
    "(len(prob_mat[prob_mat > 0.9]) - len(all_words))*1.0/(len(all_words)**2)"
   ]
  },
  {
   "cell_type": "code",
   "execution_count": 43,
   "metadata": {
    "collapsed": false
   },
   "outputs": [
    {
     "name": "stdout",
     "output_type": "stream",
     "text": [
      "CONTAINER THERMAL\n",
      "1.0 0.00178571428571\n",
      "560.0 1.0\n"
     ]
    }
   ],
   "source": [
    "idxes = np.where(prob_mat>0.999)\n",
    "import random\n",
    "while True:\n",
    "    k = random.randint(0, len(idxes[0]))\n",
    "    x, y = idxes[0][k], idxes[1][k]\n",
    "    if x == y: continue\n",
    "    x, y = all_words[x], all_words[y]\n",
    "    print x, y\n",
    "    print cond_prob(x, given = y), cond_prob(y, given = x)\n",
    "    print freq[word_idx[x.upper()]], freq[word_idx[y.upper()]]\n",
    "    break\n",
    "\n",
    "# print cond_prob(\"winnie\", given = \"pooh\")\n",
    "# print cond_prob(\"red\", given = \"rose\"), cond_prob(\"rose\", given = \"red\")\n",
    "# # all_words[10]\n",
    "# print freq[word_idx['winnie'.upper()]], freq[word_idx['pooh'.upper()]]\n",
    "# print freq[word_idx['red'.upper()]],    freq[word_idx['rose'.upper()]]\n",
    "# print comatx[word_idx['RED'], word_idx['ROSE']], comatx[word_idx['ROSE'], word_idx['RED']]\n"
   ]
  },
  {
   "cell_type": "code",
   "execution_count": 86,
   "metadata": {
    "collapsed": false
   },
   "outputs": [
    {
     "name": "stdout",
     "output_type": "stream",
     "text": [
      "49804\n"
     ]
    }
   ],
   "source": [
    "N = len(all_words)\n",
    "prob_mat_not_sym = (np.ones((N,N)) - np.diag(np.ones(N))) * prob_mat\n",
    "ones_idx = np.where(prob_mat_not_sym > 0.9)\n",
    "print len(ones_idx[0])"
   ]
  },
  {
   "cell_type": "code",
   "execution_count": 87,
   "metadata": {
    "collapsed": false
   },
   "outputs": [
    {
     "name": "stdout",
     "output_type": "stream",
     "text": [
      "84\n"
     ]
    }
   ],
   "source": [
    "def wanted(x,y):\n",
    "    return not (freq[y] / freq[x] > 100 or freq[x] / freq[y] > 100 or freq[y] < 10 or freq[x] < 10)\n",
    "clean_idx = [(x,y) for x,y in zip(ones_idx[0], ones_idx[1]) if wanted(x,y)]\n",
    "print len(clean_idx)"
   ]
  },
  {
   "cell_type": "code",
   "execution_count": 88,
   "metadata": {
    "collapsed": false
   },
   "outputs": [
    {
     "name": "stdout",
     "output_type": "stream",
     "text": [
      "445 21901\n",
      "MOUSE MICKEY 1130.0 21.0\n",
      "0.952380952381 0.0176991150442\n",
      "468 11983\n",
      "LIT DIMLY 987.0 154.0\n",
      "0.961038961039 0.149949341439\n",
      "1308 10\n",
      "POOH WINNIE 14.0 11.0\n",
      "1.0 0.785714285714\n",
      "1325 6458\n",
      "TENNIS RACKETS 11224.0 440.0\n",
      "0.920454545455 0.0360833927299\n",
      "1325 7613\n",
      "TENNIS RACKET 11224.0 3102.0\n",
      "0.930689877498 0.257216678546\n",
      "1325 19156\n",
      "TENNIS COURT 11224.0 4320.0\n",
      "0.938194444444 0.361101211689\n",
      "1325 21584\n",
      "TENNIS RACQUET 11224.0 1553.0\n",
      "0.938184159691 0.129811119031\n",
      "1764 10330\n",
      "TATER TOTS 17.0 15.0\n",
      "1.0 0.882352941176\n",
      "2033 8830\n",
      "ROOM LIVING 12730.0 5420.0\n",
      "0.935793357934 0.398428908091\n",
      "2057 14496\n",
      "WIND INDICATOR 237.0 12.0\n",
      "0.916666666667 0.0464135021097\n",
      "2229 19921\n",
      "WEATHER VEIN 144.0 10.0\n",
      "1.0 0.0694444444444\n",
      "2229 22336\n",
      "WEATHER VANE 144.0 37.0\n",
      "0.945945945946 0.243055555556\n",
      "3070 15413\n",
      "PING PONG 28.0 29.0\n",
      "0.965517241379 1.0\n",
      "3186 10888\n",
      "IRON WROUGHT 167.0 26.0\n",
      "1.0 0.155688622754\n",
      "4080 17605\n",
      "IMAGE UNABLE 2781.0 58.0\n",
      "0.948275862069 0.019777058612\n",
      "4275 15045\n",
      "WHEEL FERRIS 242.0 17.0\n",
      "1.0 0.0702479338843\n",
      "4986 1019\n",
      "KRISPY KREME 43.0 40.0\n",
      "0.95 0.883720930233\n",
      "5029 15085\n",
      "LEGS HIND 531.0 71.0\n",
      "0.915492957746 0.122410546139\n",
      "5332 7870\n",
      "WINDOW SILL 5105.0 265.0\n",
      "0.977358490566 0.0507345739471\n",
      "5708 2663\n",
      "DOUBLE DECKER 2175.0 1568.0\n",
      "0.989158163265 0.713103448276\n",
      "5708 7721\n",
      "DOUBLE DECKERED 2175.0 40.0\n",
      "1.0 0.0183908045977\n",
      "5792 20192\n",
      "BED UNMADE 8072.0 178.0\n",
      "0.932584269663 0.0205649157582\n",
      "6037 9829\n",
      "ROMAN NUMERAL 85.0 30.0\n",
      "0.966666666667 0.341176470588\n",
      "6037 21107\n",
      "ROMAN NUMERALS 85.0 47.0\n",
      "0.957446808511 0.529411764706\n",
      "6075 11832\n",
      "SLAW COLE 43.0 35.0\n",
      "0.971428571429 0.790697674419\n",
      "6478 9685\n",
      "KNACKS KNICK 34.0 31.0\n",
      "0.967741935484 0.882352941176\n",
      "7370 16701\n",
      "BRIDGE SUSPENSION 1265.0 13.0\n",
      "0.923076923077 0.00948616600791\n",
      "7417 12805\n",
      "ANGELES LOS 14.0 14.0\n",
      "0.928571428571 0.928571428571\n",
      "8126 16323\n",
      "SHOWER STANDUP 1569.0 28.0\n",
      "0.928571428571 0.0165710643722\n",
      "8305 22358\n",
      "GREEN LUSH 8615.0 1005.0\n",
      "0.930348258706 0.108531630876\n",
      "8466 4713\n",
      "MOTOR CYCLE 791.0 146.0\n",
      "0.904109589041 0.166877370417\n",
      "8550 10675\n",
      "FED EX 92.0 13.0\n",
      "0.923076923077 0.130434782609\n",
      "8912 3291\n",
      "HARLEY DAVIDSON 29.0 23.0\n",
      "1.0 0.793103448276\n",
      "9337 7420\n",
      "CREAM WHIPPED 526.0 78.0\n",
      "0.910256410256 0.134980988593\n",
      "10024 12762\n",
      "TIME ZONES 823.0 13.0\n",
      "0.923076923077 0.0145808019441\n",
      "10024 17540\n",
      "TIME LAPSE 823.0 37.0\n",
      "1.0 0.044957472661\n",
      "10402 17605\n",
      "SEE UNABLE 406.0 58.0\n",
      "0.965517241379 0.137931034483\n",
      "10526 21845\n",
      "WAR II 103.0 11.0\n",
      "1.0 0.106796116505\n",
      "10770 6002\n",
      "RUBBER DUCKY 70.0 11.0\n",
      "1.0 0.157142857143\n",
      "10874 16002\n",
      "SPROUTS BRUSSEL 45.0 16.0\n",
      "1.0 0.355555555556\n",
      "11347 1773\n",
      "WII MOTES 2401.0 29.0\n",
      "1.0 0.012078300708\n",
      "11347 5836\n",
      "WII MOTE 2401.0 52.0\n",
      "0.980769230769 0.021241149521\n",
      "11347 6438\n",
      "WII NINTENDO 2401.0 741.0\n",
      "0.968960863698 0.299042065806\n",
      "11349 21528\n",
      "WIT HA 114.0 80.0\n",
      "0.925 0.649122807018\n",
      "11833 7786\n",
      "COLA COCA 61.0 37.0\n",
      "0.972972972973 0.590163934426\n",
      "12125 7903\n",
      "AIR FORCE 5288.0 98.0\n",
      "0.938775510204 0.017397881997\n",
      "12349 12286\n",
      "NEW YORK 376.0 54.0\n",
      "0.981481481481 0.140957446809\n",
      "12444 20624\n",
      "POINT FOCAL 132.0 17.0\n",
      "0.941176470588 0.121212121212\n",
      "12805 7417\n",
      "LOS ANGELES 14.0 14.0\n",
      "0.928571428571 0.928571428571\n",
      "12850 2740\n",
      "HORSE JOCKEY 5654.0 121.0\n",
      "0.925619834711 0.0198089847895\n",
      "13001 15264\n",
      "BRIDE GROOM 220.0 197.0\n",
      "0.954314720812 0.854545454545\n",
      "13486 3732\n",
      "MARKET FLEA 970.0 15.0\n",
      "1.0 0.0154639175258\n",
      "13538 4016\n",
      "CAT TABBY 11447.0 172.0\n",
      "0.906976744186 0.01362802481\n",
      "13558 20297\n",
      "MAKE SHIFT 339.0 12.0\n",
      "1.0 0.0353982300885\n",
      "13732 22366\n",
      "FLIP FLOPS 206.0 12.0\n",
      "1.0 0.0582524271845\n",
      "14396 2622\n",
      "LAMP LAVA 740.0 15.0\n",
      "0.933333333333 0.0189189189189\n",
      "14458 7774\n",
      "CORN COB 172.0 23.0\n",
      "1.0 0.133720930233\n",
      "14470 9062\n",
      "WIRE BARB 515.0 17.0\n",
      "0.941176470588 0.031067961165\n",
      "14470 17976\n",
      "WIRE BARBED 515.0 89.0\n",
      "0.966292134831 0.166990291262\n",
      "15413 3070\n",
      "PONG PING 29.0 28.0\n",
      "1.0 0.965517241379\n",
      "15672 11228\n",
      "BREAD LOAVES 1134.0 14.0\n",
      "1.0 0.0123456790123\n",
      "16613 13286\n",
      "HAIR COMBING 1047.0 32.0\n",
      "0.96875 0.0296084049666\n",
      "16743 5566\n",
      "PARKING METERS 3090.0 270.0\n",
      "0.944444444444 0.0825242718447\n",
      "16743 18275\n",
      "PARKING METER 3090.0 981.0\n",
      "0.907237512742 0.288025889968\n",
      "17067 15200\n",
      "BANANAS UNRIPE 2969.0 62.0\n",
      "0.935483870968 0.019535197036\n",
      "18086 4180\n",
      "STAR WARS 83.0 12.0\n",
      "1.0 0.144578313253\n",
      "18137 5785\n",
      "BIG BEN 3771.0 182.0\n",
      "0.978021978022 0.0472023335985\n",
      "18705 12797\n",
      "SANTA CLAUS 165.0 32.0\n",
      "1.0 0.193939393939\n",
      "18705 17455\n",
      "SANTA CLAUSE 165.0 22.0\n",
      "1.0 0.133333333333\n",
      "19025 10668\n",
      "FIRE HYDRANTS 4352.0 47.0\n",
      "0.978723404255 0.0105698529412\n",
      "19025 12920\n",
      "FIRE HYDRANT 4352.0 3602.0\n",
      "0.958356468629 0.793198529412\n",
      "19133 17730\n",
      "BUTTER PEANUT 179.0 95.0\n",
      "0.915789473684 0.486033519553\n",
      "19621 19420\n",
      "BEEF CORNED 193.0 11.0\n",
      "1.0 0.0569948186528\n",
      "19918 21845\n",
      "WORLD II 86.0 11.0\n",
      "1.0 0.127906976744\n",
      "20332 16440\n",
      "HAY BALE 523.0 14.0\n",
      "0.928571428571 0.0248565965583\n",
      "20332 20459\n",
      "HAY BALES 523.0 15.0\n",
      "0.933333333333 0.0267686424474\n",
      "20615 13760\n",
      "CHAIN LINKED 212.0 17.0\n",
      "0.941176470588 0.0754716981132\n",
      "20615 22050\n",
      "CHAIN LINK 212.0 95.0\n",
      "0.957894736842 0.429245283019\n",
      "20984 14754\n",
      "CLOCK ALARM 6734.0 71.0\n",
      "0.929577464789 0.00980100980101\n",
      "20984 22170\n",
      "CLOCK GRANDFATHER 6734.0 85.0\n",
      "0.917647058824 0.011583011583\n",
      "21312 8911\n",
      "SAN FRANCISCO 26.0 18.0\n",
      "1.0 0.692307692308\n",
      "21482 4698\n",
      "PIZZA PEPPERONI 8410.0 353.0\n",
      "0.968838526912 0.0406658739596\n",
      "21902 6401\n",
      "EYES GOOGLY 427.0 10.0\n",
      "1.0 0.0234192037471\n",
      "22319 20850\n",
      "LAW ENFORCEMENT 24.0 13.0\n",
      "0.923076923077 0.5\n"
     ]
    }
   ],
   "source": [
    "import random\n",
    "# idx = random.randint(0, len(clean_idx[0]));\n",
    "for idx in range(len(clean_idx)):\n",
    "    x, y = clean_idx[idx]\n",
    "    print x, y\n",
    "    print all_words[x], all_words[y], freq[x], freq[y]\n",
    "    print cond_prob(all_words[x], given=all_words[y]), cond_prob(all_words[y], given=all_words[x])\n"
   ]
  },
  {
   "cell_type": "code",
   "execution_count": 84,
   "metadata": {
    "collapsed": false
   },
   "outputs": [
    {
     "name": "stdout",
     "output_type": "stream",
     "text": [
      "[u'TOILET', u'SINK', u'WHITE', u'MIRROR', u'SHOWER', u'SMALL', u'TUB', u'SITTING', u'NEXT', u'WALL']\n"
     ]
    }
   ],
   "source": [
    "def most_prob_words(word, num = 10):\n",
    "    idxes = np.argsort(prob_mat[:,word_idx[word.upper()]])\n",
    "    words = [all_words[idx] for idx in idxes[-2:-num-2:-1]]\n",
    "#     words = [idx for idx in idxes[:-num-1:-1]]\n",
    "    return words\n",
    "\n",
    "print most_prob_words('bathroom')\n",
    "\n",
    "assert 1.0 == prob_mat[k,k], k"
   ]
  },
  {
   "cell_type": "code",
   "execution_count": 20,
   "metadata": {
    "collapsed": false
   },
   "outputs": [
    {
     "name": "stdout",
     "output_type": "stream",
     "text": [
      "[u'person', u'bicycle', u'car', u'motorcycle', u'airplane', u'bus', u'train', u'truck', u'boat', u'traffic light', u'fire hydrant', u'stop sign', u'parking meter', u'bench', u'bird', u'cat', u'dog', u'horse', u'sheep', u'cow', u'elephant', u'bear', u'zebra', u'giraffe', u'backpack', u'umbrella', u'handbag', u'tie', u'suitcase', u'frisbee', u'skis', u'snowboard', u'sports ball', u'kite', u'baseball bat', u'baseball glove', u'skateboard', u'surfboard', u'tennis racket', u'bottle', u'wine glass', u'cup', u'fork', u'knife', u'spoon', u'bowl', u'banana', u'apple', u'sandwich', u'orange', u'broccoli', u'carrot', u'hot dog', u'pizza', u'donut', u'cake', u'chair', u'couch', u'potted plant', u'bed', u'dining table', u'toilet', u'tv', u'laptop', u'mouse', u'remote', u'keyboard', u'cell phone', u'microwave', u'oven', u'toaster', u'sink', u'refrigerator', u'book', u'clock', u'vase', u'scissors', u'teddy bear', u'hair drier', u'toothbrush']\n"
     ]
    }
   ],
   "source": [
    "all_info = json.load(open(os.path.join(COCO_ANNO_PATH, 'image_info_test2014.json')))\n",
    "category_names = [x['name'] for x in all_info['categories']]\n",
    "categories = {x['name']:{} for x in all_info['categories']}\n",
    "for cate, d in categories.iteritems():\n",
    "    for word in cate.split(\" \"):\n",
    "        d.update({ word : most_prob_words(word)})\n",
    "print category_names"
   ]
  },
  {
   "cell_type": "code",
   "execution_count": 21,
   "metadata": {
    "collapsed": false
   },
   "outputs": [
    {
     "data": {
      "text/plain": [
       "{u'handbag': [u'HANDBAG',\n",
       "  u'WOMAN',\n",
       "  u'CAT',\n",
       "  u'HOLDING',\n",
       "  u'NEXT',\n",
       "  u'PHONE',\n",
       "  u'SITTING',\n",
       "  u'CELL',\n",
       "  u'WALKING']}"
      ]
     },
     "execution_count": 21,
     "metadata": {},
     "output_type": "execute_result"
    }
   ],
   "source": [
    "categories[category_names[random.randint(0, len(category_names))]]"
   ]
  },
  {
   "cell_type": "code",
   "execution_count": 1,
   "metadata": {
    "collapsed": false
   },
   "outputs": [],
   "source": [
    "\"\"\"Helper functions to save/load csr matrix\"\"\"\n",
    "def save_sparse_csr(filename,array):\n",
    "    np.savez(filename,data = array.data ,indices=array.indices,\n",
    "             indptr =array.indptr, shape=array.shape )\n",
    "\n",
    "def load_sparse_csr(filename):\n",
    "    loader = np.load(filename)\n",
    "    return scipy.sparse.csc_matrix((  loader['data'], loader['indices'], loader['indptr']),\n",
    "                         shape = loader['shape'])\n"
   ]
  },
  {
   "cell_type": "code",
   "execution_count": 90,
   "metadata": {
    "collapsed": false
   },
   "outputs": [],
   "source": [
    "save_sparse_csr(os.path.join(CWD,'stats','cond_prob','prob_mat.npz'),scipy.sparse.csc_matrix(prob_mat))"
   ]
  },
  {
   "cell_type": "code",
   "execution_count": 91,
   "metadata": {
    "collapsed": true
   },
   "outputs": [],
   "source": [
    "with open(os.path.join(CWD,'stats','cond_prob','freq.npz'),'w+') as f:\n",
    "    np.save(f, freq)"
   ]
  },
  {
   "cell_type": "code",
   "execution_count": 92,
   "metadata": {
    "collapsed": true
   },
   "outputs": [],
   "source": [
    "save_sparse_csr(os.path.join(CWD,'stats','cond_prob','comatx.npz'),scipy.sparse.csc_matrix(comatx))"
   ]
  },
  {
   "cell_type": "code",
   "execution_count": 93,
   "metadata": {
    "collapsed": false
   },
   "outputs": [],
   "source": [
    "with open(os.path.join(CWD,'stats','cond_prob','words_and_rvwords.pkl'),'w+') as f:\n",
    "    cPickle.dump(all_words, f, protocol=cPickle.HIGHEST_PROTOCOL)\n"
   ]
  },
  {
   "cell_type": "markdown",
   "metadata": {},
   "source": [
    "### For experiments, load the numbers and start from here.\n",
    "### Do not try to run above cells again. Will take forever."
   ]
  },
  {
   "cell_type": "code",
   "execution_count": 13,
   "metadata": {
    "collapsed": false
   },
   "outputs": [
    {
     "name": "stdout",
     "output_type": "stream",
     "text": [
      "22644 22644\n"
     ]
    }
   ],
   "source": [
    "\"\"\"Load numbers\"\"\"\n",
    "prob_mat = load_sparse_csr(os.path.join(CWD,'stats','cond_prob','prob_mat.npz')).todense()\n",
    "freq = np.load(os.path.join(CWD,'stats','cond_prob','freq.npz'))\n",
    "comatx = load_sparse_csr(os.path.join(CWD,'stats','cond_prob','comatx.npz')).todense()\n",
    "with open(os.path.join(CWD,'stats','cond_prob','words_and_rvwords.pkl'),'r') as f:\n",
    "    all_words = cPickle.load(f)\n",
    "print len(all_words), len(freq)"
   ]
  },
  {
   "cell_type": "markdown",
   "metadata": {},
   "source": [
    "### Toilet category experiments with median background filter."
   ]
  },
  {
   "cell_type": "code",
   "execution_count": 82,
   "metadata": {
    "collapsed": false
   },
   "outputs": [
    {
     "name": "stdout",
     "output_type": "stream",
     "text": [
      "1134 1134\n"
     ]
    }
   ],
   "source": [
    "#load results\n",
    "with open(os.path.join(CWD, 'stats','toilet_median_bg', 'toilet_no_sink_median_bg_71.pkl')) as f:\n",
    "    d = cPickle.load(f)\n",
    "ablts = [x['ablt'].upper() for _,x in d.iteritems() if isinstance(x,dict)]\n",
    "origs = [x['orig'].upper() for _,x in d.iteritems() if isinstance(x,dict)]\n",
    "print len(ablts), len(origs)"
   ]
  },
  {
   "cell_type": "code",
   "execution_count": 78,
   "metadata": {
    "collapsed": false
   },
   "outputs": [
    {
     "name": "stdout",
     "output_type": "stream",
     "text": [
      "[u'BATHROOM', u'SINK', u'WHITE', u'SITTING', u'NEXT']\n",
      "966 1135\n"
     ]
    }
   ],
   "source": [
    "def count_cate_high_coexist_words(cate, d):\n",
    "    \"\"\"count the number of images in the category that have the 5 words with highest probability\n",
    "    occuring in the ablated captions.\n",
    "    [arg] d - captioning results. imgid -> 'score', 'ablt', 'orig' \n",
    "          cate - str\n",
    "    \"\"\"\n",
    "    hfwords = most_prob_words(cate, num = 5)\n",
    "    ablts = [x['ablt'] for _,x in d.iteritems() if isinstance(x,dict)]\n",
    "    origs = [x['orig'] for _,x in d.iteritems() if isinstance(x,dict)]\n",
    "    print hfwords\n",
    "    def _judge(pair):\n",
    "        orig,ablt = pair\n",
    "        for w in hfwords:\n",
    "#             if w in ablt.upper() and w not in orig.upper():\n",
    "            if w in ablt.upper():\n",
    "                return True\n",
    "        return False\n",
    "    return len(filter(_judge, zip(origs,ablts)))\n",
    "\n",
    "print count_cate_high_coexist_words('toilet'.upper(),d), len(d)"
   ]
  },
  {
   "cell_type": "code",
   "execution_count": 83,
   "metadata": {
    "collapsed": false
   },
   "outputs": [
    {
     "name": "stdout",
     "output_type": "stream",
     "text": [
      "BATHROOM 0.864440078585 0.884657236126 0.541167988464\n",
      "SINK 0.483300589391 0.341675734494 0.284354722422\n",
      "WHITE 0.23673870334 0.588683351469 0.202307137707\n",
      "SITTING 0.356581532417 0.47007616975 0.131651045422\n",
      "NEXT 0.194499017682 0.44613710555 0.116798846431\n"
     ]
    }
   ],
   "source": [
    "def calc_cond(sentences, word, given):\n",
    "    word, given = word.upper(), given.upper()\n",
    "    both = [s for s in sentences if word in s and given in s]\n",
    "    only_given = [s for s in sentences if given in s]\n",
    "    return 1.0*len(both)/len(only_given)\n",
    "\n",
    "cate = 'toilet'\n",
    "for w in most_prob_words(cate, num = 5):\n",
    "    print w, calc_cond(origs, w,'toilet'), calc_cond(ablts, w,'toilet'),  cond_prob(w, 'toilet')"
   ]
  },
  {
   "cell_type": "code",
   "execution_count": 77,
   "metadata": {
    "collapsed": false
   },
   "outputs": [
    {
     "name": "stdout",
     "output_type": "stream",
     "text": [
      "374\n"
     ]
    }
   ],
   "source": [
    "print len(set(ablts+origs))"
   ]
  },
  {
   "cell_type": "code",
   "execution_count": null,
   "metadata": {
    "collapsed": true
   },
   "outputs": [],
   "source": []
  }
 ],
 "metadata": {
  "kernelspec": {
   "display_name": "Python 2",
   "language": "python",
   "name": "python2"
  },
  "language_info": {
   "codemirror_mode": {
    "name": "ipython",
    "version": 2
   },
   "file_extension": ".py",
   "mimetype": "text/x-python",
   "name": "python",
   "nbconvert_exporter": "python",
   "pygments_lexer": "ipython2",
   "version": "2.7.12"
  }
 },
 "nbformat": 4,
 "nbformat_minor": 0
}
