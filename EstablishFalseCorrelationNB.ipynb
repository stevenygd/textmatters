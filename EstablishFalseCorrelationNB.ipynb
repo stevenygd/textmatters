{
 "cells": [
  {
   "cell_type": "code",
   "execution_count": 20,
   "metadata": {
    "collapsed": false
   },
   "outputs": [],
   "source": [
    "CWD = %pwd\n",
    "CWD = str(CWD)\n",
    "import sys\n",
    "import json\n",
    "from six.moves import cPickle\n",
    "import os\n",
    "import statistics\n",
    "from collections import defaultdict,Iterable\n",
    "\n",
    "from IPython.core.display import HTML \n",
    "from IPython.core.display import Image, display, display_pretty\n",
    "\n",
    "import numpy as np\n",
    "from scipy import misc, polyfit, stats\n",
    "import matplotlib.pyplot as plt\n",
    "import PIL\n",
    "# from PIL import Image\n",
    "%matplotlib inline  \n",
    "import re\n",
    "\n",
    "COCO_PATH = os.path.join(CWD,'data','coco')\n",
    "COCO_ANNO_PATH = os.path.join(COCO_PATH, 'annotations')\n",
    "sys.path.insert(0, os.path.join(CWD, 'coco', 'PythonAPI'))\n",
    "from pycocotools.coco import COCO,mask"
   ]
  },
  {
   "cell_type": "code",
   "execution_count": 15,
   "metadata": {
    "collapsed": true
   },
   "outputs": [],
   "source": [
    "\"\"\"\n",
    "Load Coco data\n",
    "\"\"\"\n",
    "\n",
    "# load the data from captions\n",
    "with open(COCO_ANNO_PATH + '/captions_train2014.json') as f:\n",
    "    coco_captions = json.load(f)\n",
    "# print len(coco_captions)\n",
    "# with open(COCO_ANNO_PATH + 'captions_val2014.json') as f:\n",
    "#     coco_captions =  dict(coco_captions.items() + json.load(f).items())\n",
    "# print len(coco_captions)\n",
    "\n",
    "# build the reverse dictionary, from img_id to captions, img_infos, and annotations\n",
    "img_captions = {}\n",
    "for img_info in coco_captions['images']:\n",
    "    mid = str(img_info['id'])\n",
    "    if not mid in img_captions:\n",
    "        img_captions[mid] = {}\n",
    "    img_captions[mid]['image'] = img_info\n",
    "\n",
    "for cap_info in coco_captions['annotations']:\n",
    "    mid = str(cap_info['image_id'])\n",
    "    if not 'annotation' in img_captions[mid]:\n",
    "        img_captions[mid]['annotation'] = []\n",
    "        img_captions[mid]['captions'] = []\n",
    "    img_captions[mid]['annotation'].append(cap_info)\n",
    "    img_captions[mid]['captions'].append(cap_info['caption'])"
   ]
  },
  {
   "cell_type": "code",
   "execution_count": 38,
   "metadata": {
    "collapsed": false
   },
   "outputs": [],
   "source": [
    "\"\"\"Extract caption data as a document list\"\"\"\n",
    "caps = [ x['captions'] for _,x in img_captions.iteritems()]\n",
    "all_words = []\n",
    "#flatten\n",
    "caps= [item for l in caps for item in l]\n",
    "#convert each sentence to bag of words\n",
    "def _convert(sentence):\n",
    "    wl = ''.join(c for c in sentence if c.isalnum() or c.isspace()).split()\n",
    "    out = defaultdict(int)\n",
    "    for w in wl:\n",
    "        if w not in all_words:\n",
    "            all_words.append(w)\n",
    "        out[w] += 1\n",
    "    return out\n",
    "caps = map(_convert, caps)"
   ]
  },
  {
   "cell_type": "code",
   "execution_count": 36,
   "metadata": {
    "collapsed": false
   },
   "outputs": [],
   "source": [
    "\"\"\"Calculate conditional occurence mapping\"\"\"\n",
    "word_count = defaultdict(int)  #x-> number of sentences that has x\n",
    "cond_count = {} #x -> y -> number of sentences that has both x and y\n",
    "for bag in caps:\n",
    "    for x in bag.keys():\n",
    "        word_count[x] += 1\n",
    "        for y in bag.keys():\n",
    "            if x not in cond_count:\n",
    "                cond_count[x] = defaultdict(int)\n",
    "            cond_count[x][y] += 1\n"
   ]
  },
  {
   "cell_type": "code",
   "execution_count": 39,
   "metadata": {
    "collapsed": false
   },
   "outputs": [
    {
     "name": "stdout",
     "output_type": "stream",
     "text": [
      "(31514, 31514)\n"
     ]
    }
   ],
   "source": [
    "\"\"\"Create words to index mapping and final conditional prob. matrix\"\"\"\n",
    "words_to_idx = {}\n",
    "for idx, w in enumerate(all_words):\n",
    "    words_to_idx[w] = idx"
   ]
  },
  {
   "cell_type": "code",
   "execution_count": null,
   "metadata": {
    "collapsed": false
   },
   "outputs": [
    {
     "name": "stdout",
     "output_type": "stream",
     "text": [
      "True\n"
     ]
    }
   ],
   "source": [
    "\"\"\"Calculate conditional probability\"\"\"\n",
    "#prob_mat[x][y] -> P(y|x)\n",
    "prob_mat = np.zeros((len(all_words),len(all_words)))\n",
    "\n",
    "#sanity check\n",
    "assert cond_count['dog']['person'] == cond_count['person']['dog'] and cond_count['person']['dog']!=0 \n",
    "\n",
    "for ix, x in enumerate(all_words):\n",
    "    for iy, y in enumerate(all_words):\n",
    "        prob_mat[ix][iy] = cond_count[x][y]*1.0/word_count[x]"
   ]
  },
  {
   "cell_type": "code",
   "execution_count": null,
   "metadata": {
    "collapsed": true
   },
   "outputs": [],
   "source": [
    "print len(prob_mat[np.where(prob_mat>0.99)])"
   ]
  }
 ],
 "metadata": {
  "kernelspec": {
   "display_name": "Python 2",
   "language": "python",
   "name": "python2"
  },
  "language_info": {
   "codemirror_mode": {
    "name": "ipython",
    "version": 2
   },
   "file_extension": ".py",
   "mimetype": "text/x-python",
   "name": "python",
   "nbconvert_exporter": "python",
   "pygments_lexer": "ipython2",
   "version": "2.7.12"
  }
 },
 "nbformat": 4,
 "nbformat_minor": 0
}
