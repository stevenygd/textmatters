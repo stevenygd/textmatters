{
 "cells": [
  {
   "cell_type": "markdown",
   "metadata": {},
   "source": [
    "# Small Experiment Data Analysis"
   ]
  },
  {
   "cell_type": "code",
   "execution_count": 1,
   "metadata": {
    "collapsed": true
   },
   "outputs": [],
   "source": [
    "import json\n",
    "from six.moves import cPickle\n",
    "import os\n",
    "import statistics\n",
    "\n",
    "from IPython.core.display import HTML \n",
    "from IPython.core.display import Image, display\n",
    "\n",
    "import matplotlib\n",
    "import numpy as np\n",
    "import matplotlib.pyplot as plt\n",
    "%matplotlib inline  "
   ]
  },
  {
   "cell_type": "code",
   "execution_count": 13,
   "metadata": {
    "collapsed": false
   },
   "outputs": [],
   "source": [
    "\"\"\"\n",
    "Load Coco data\n",
    "\"\"\"\n",
    "COCO_PATH = 'data/coco/'\n",
    "COCO_ANNO_PATH = COCO_PATH + 'annotations/'\n",
    "\n",
    "# load the data from captions\n",
    "with open(COCO_ANNO_PATH + 'captions_train2014.json') as f:\n",
    "    coco_captions = json.load(f)\n",
    "# print len(coco_captions)\n",
    "# with open(COCO_ANNO_PATH + 'captions_val2014.json') as f:\n",
    "#     coco_captions =  dict(coco_captions.items() + json.load(f).items())\n",
    "# print len(coco_captions)\n",
    "\n",
    "# build the reverse dictionary, from img_id to captions, img_infos, and annotations\n",
    "img_captions = {}\n",
    "for img_info in coco_captions['images']:\n",
    "    mid = int(img_info['id'])\n",
    "    if not mid in img_captions:\n",
    "        img_captions[mid] = {}\n",
    "    img_captions[mid]['image'] = img_info\n",
    "\n",
    "for cap_info in coco_captions['annotations']:\n",
    "    mid = int(cap_info['image_id'])\n",
    "    if not 'annotation' in img_captions[mid]:\n",
    "        img_captions[mid]['annotation'] = []\n",
    "        img_captions[mid]['captions'] = []\n",
    "    img_captions[mid]['annotation'].append(cap_info)\n"
   ]
  },
  {
   "cell_type": "code",
   "execution_count": 16,
   "metadata": {
    "collapsed": false
   },
   "outputs": [
    {
     "name": "stdout",
     "output_type": "stream",
     "text": [
      "Statistics for scores of gaussian filtered ablations:\n",
      "\n",
      "Total:\t1013;\t\tMean:\t\t0.837452;\tNonezero:\t1008\n",
      "Median:\t1.000000;\tMedian(H):\t1.000000;\tMedian(L):\t1.000000;\n",
      "Max:\t1.000000;\tMin:\t\t0.000000;\tStd:\t\t0.276086\n",
      "\n",
      "\n",
      "[107]Zero Image\n",
      "\n",
      "\tScore:0.0;\tImageId:340096\n",
      "\n",
      "\tOriginal Caption:\n",
      "\t\ta stop sign is on the corner of a street;\n",
      "\tAblation Caption:\n",
      "\t\ta person holding a glass of wine in a room;\n",
      "\tAnnotated Captions:\n",
      "\n",
      "\t\t1. A stop sign covered in lights at a street intersection.\n",
      "\n",
      "\t\t2. A stop sign that is decorated with Christmas lights.\n",
      "\n",
      "\t\t3. a decorated lite up stop sign at the corner\n",
      "\n",
      "\t\t4. car comes to the curve to stop at the stop sign\n",
      "\n",
      "\t\t5. A stop sign covered in a white lights. \n",
      "\n"
     ]
    },
    {
     "data": {
      "text/html": [
       "<img src=\"http://mscoco.org/images/340096\"/>"
      ],
      "text/plain": [
       "<IPython.core.display.Image object>"
      ]
     },
     "metadata": {},
     "output_type": "display_data"
    },
    {
     "name": "stdout",
     "output_type": "stream",
     "text": [
      "[427]Zero Image\n",
      "\n",
      "\tScore:0.0;\tImageId:110251\n",
      "\n",
      "\tOriginal Caption:\n",
      "\t\ta street sign on a street corner;\n",
      "\tAblation Caption:\n",
      "\t\ta park bench sitting in the middle of a park;\n",
      "\tAnnotated Captions:\n",
      "\n",
      "\t\t1. A bench sitting on top of a park near a play ground.\n",
      "\n",
      "\t\t2. a fenced in park on a city street\n",
      "\n",
      "\t\t3. a sign showing that there kids playing in the field\n",
      "\n",
      "\t\t4. a sign on a pole near a park \n",
      "\n",
      "\t\t5. A playground with a sign saying caution live children playing.\n",
      "\n"
     ]
    },
    {
     "data": {
      "text/html": [
       "<img src=\"http://mscoco.org/images/110251\"/>"
      ],
      "text/plain": [
       "<IPython.core.display.Image object>"
      ]
     },
     "metadata": {},
     "output_type": "display_data"
    },
    {
     "name": "stdout",
     "output_type": "stream",
     "text": [
      "[550]Zero Image\n",
      "\n",
      "\tScore:0.0;\tImageId:289515\n",
      "\n",
      "\tOriginal Caption:\n",
      "\t\ta street sign on the side of a street;\n",
      "\tAblation Caption:\n",
      "\t\ta car parked in front of a building;\n",
      "\tAnnotated Captions:\n",
      "\n",
      "\t\t1. A sidewalk and doughnut shop with a bike leaning against the building\n",
      "\n",
      "\t\t2. A long shot of a city sidewalk on a sunny day \n",
      "\n",
      "\t\t3. A sign for a doughnut shop on a sidewalk by a street.\n",
      "\n",
      "\t\t4. Donut shop sign on an empty street next to a tree\n",
      "\n",
      "\t\t5. A building with a sign that says Donuts above the door. \n",
      "\n"
     ]
    },
    {
     "data": {
      "text/html": [
       "<img src=\"http://mscoco.org/images/289515\"/>"
      ],
      "text/plain": [
       "<IPython.core.display.Image object>"
      ]
     },
     "metadata": {},
     "output_type": "display_data"
    },
    {
     "name": "stdout",
     "output_type": "stream",
     "text": [
      "[584]Zero Image\n",
      "\n",
      "\tScore:0.0;\tImageId:461464\n",
      "\n",
      "\tOriginal Caption:\n",
      "\t\ta clock on the side of a building;\n",
      "\tAblation Caption:\n",
      "\t\ta train station with a train passing by;\n",
      "\tAnnotated Captions:\n",
      "\n",
      "\t\t1. A train station has a foreign sign and a clock.\n",
      "\n",
      "\t\t2. View from the train at Pistoia station in Italy\n",
      "\n",
      "\t\t3. A clock on a train platform during day time.\n",
      "\n",
      "\t\t4. a clock attached to a pole at a train station\n",
      "\n",
      "\t\t5. A street sign and a clock sitting by a parked train.\n",
      "\n"
     ]
    },
    {
     "data": {
      "text/html": [
       "<img src=\"http://mscoco.org/images/461464\"/>"
      ],
      "text/plain": [
       "<IPython.core.display.Image object>"
      ]
     },
     "metadata": {},
     "output_type": "display_data"
    },
    {
     "name": "stdout",
     "output_type": "stream",
     "text": [
      "[877]Zero Image\n",
      "\n",
      "\tScore:0.0;\tImageId:199678\n",
      "\n",
      "\tOriginal Caption:\n",
      "\t\ta bunch of different types of electronic devices;\n",
      "\tAblation Caption:\n",
      "\t\ta pair of scissors sitting on top of a table;\n",
      "\tAnnotated Captions:\n",
      "\n",
      "\t\t1. A stack of cash sitting under a cell phone.\n",
      "\n",
      "\t\t2. USA 20 dollars totaling $120, held down by a cell phone with Coca cola cans nearby. \n",
      "\n",
      "\t\t3. A bunch of twentys underneath a celll phone\n",
      "\n",
      "\t\t4. Six twenty dollar bills are underneath a phone.\n",
      "\n",
      "\t\t5. A number of twenty dollar bills with a phone\n",
      "\n"
     ]
    },
    {
     "data": {
      "text/html": [
       "<img src=\"http://mscoco.org/images/199678\"/>"
      ],
      "text/plain": [
       "<IPython.core.display.Image object>"
      ]
     },
     "metadata": {},
     "output_type": "display_data"
    }
   ],
   "source": [
    "IN_FILE_NAME  = 'high_coexist_img_ids.pkl'\n",
    "OUT_FILE_NAME = 'highexist_gaussian'\n",
    "IN_DIR        = 'input'\n",
    "OUT_DIR       = 'output'\n",
    "\n",
    "def get_stat(data):\n",
    "    if len(data)==0: return;\n",
    "    print \"\"\n",
    "    print \"Total:\\t%d;\\t\\tMean:\\t\\t%f;\\tNonezero:\\t%d\"%(len(data), statistics.mean(data), len(filter(lambda x:x!=0, data)))\n",
    "    print \"Median:\\t%f;\\tMedian(H):\\t%f;\\tMedian(L):\\t%f;\"%(statistics.median(data), statistics.median_high(data), statistics.median_low(data))\n",
    "    print \"Max:\\t%f;\\tMin:\\t\\t%f;\\tStd:\\t\\t%f\"%(max(data), min(data),statistics.stdev(data))\n",
    "    print \"\\n\"\n",
    "    \n",
    "def look_up_image(title, idx, in_ids, vis, scores):\n",
    "    print \"[%d]%s\\n\"%(idx,title)\n",
    "    print \"\\tScore:%s;\\tImageId:%s\\n\"%(scores[idx], in_ids[idx])\n",
    "    print \"\\tOriginal Caption:\\n\\t\\t%s;\\n\\tAblation Caption:\\n\\t\\t%s;\"%(vis[idx*2+1]['caption'],vis[idx*2]['caption'])\n",
    "    print \"\\tAnnotated Captions:\\n\"\n",
    "    img_id = int(in_ids[idx])\n",
    "    for idx, note in enumerate(img_captions[img_id]['annotation']):\n",
    "        print \"\\t\\t%d. %s\\n\"%(idx+1, note['caption'])\n",
    "    display(Image(url= img_captions[img_id]['image']['coco_url']))\n",
    "\n",
    "def get_expr_summary(in_file=IN_FILE_NAME, out_file=OUT_FILE_NAME, in_path=IN_DIR, out_path=OUT_DIR, num=5):\n",
    "    in_ids  = cPickle.load(open(os.path.join(in_path, in_file)))\n",
    "    scores  = cPickle.load(open(os.path.join(out_path, \"scores_%s.pkl\"%out_file)))\n",
    "    vis     = json.load(open(os.path.join(out_path, 'vis_%s.json'%out_file)))\n",
    "    print \"Statistics for scores of gaussian filtered ablations:\"\n",
    "    get_stat(scores)\n",
    "\n",
    "    scores_idx = zip(range(len(scores)), scores)\n",
    "    sorted_scores_idx = sorted(scores_idx, key=lambda x: x[1])   # sort by score\n",
    "    for idx, _ in sorted_scores_idx[:num]:\n",
    "        look_up_image(\"Zero Image\",idx, in_ids, vis, scores)\n",
    "\n",
    "get_expr_summary(in_file = IN_FILE_NAME, out_file = OUT_FILE_NAME)"
   ]
  },
  {
   "cell_type": "code",
   "execution_count": 49,
   "metadata": {
    "collapsed": false
   },
   "outputs": [
    {
     "ename": "ValueError",
     "evalue": "No JSON object could be decoded",
     "output_type": "error",
     "traceback": [
      "\u001b[0;31m---------------------------------------------------------------------------\u001b[0m",
      "\u001b[0;31mValueError\u001b[0m                                Traceback (most recent call last)",
      "\u001b[0;32m<ipython-input-49-e5886c249543>\u001b[0m in \u001b[0;36m<module>\u001b[0;34m()\u001b[0m\n\u001b[1;32m      1\u001b[0m \u001b[0mblkin\u001b[0m     \u001b[0;34m=\u001b[0m \u001b[0mcPickle\u001b[0m\u001b[0;34m.\u001b[0m\u001b[0mload\u001b[0m\u001b[0;34m(\u001b[0m\u001b[0mopen\u001b[0m\u001b[0;34m(\u001b[0m\u001b[0mos\u001b[0m\u001b[0;34m.\u001b[0m\u001b[0mpath\u001b[0m\u001b[0;34m.\u001b[0m\u001b[0mjoin\u001b[0m\u001b[0;34m(\u001b[0m\u001b[0mIN_DIR\u001b[0m\u001b[0;34m,\u001b[0m \u001b[0mB_OUT_FILE\u001b[0m\u001b[0;34m)\u001b[0m\u001b[0;34m)\u001b[0m\u001b[0;34m)\u001b[0m\u001b[0;34m\u001b[0m\u001b[0m\n\u001b[0;32m----> 2\u001b[0;31m \u001b[0mblkvis\u001b[0m    \u001b[0;34m=\u001b[0m \u001b[0mjson\u001b[0m\u001b[0;34m.\u001b[0m\u001b[0mload\u001b[0m\u001b[0;34m(\u001b[0m\u001b[0mopen\u001b[0m\u001b[0;34m(\u001b[0m\u001b[0mos\u001b[0m\u001b[0;34m.\u001b[0m\u001b[0mpath\u001b[0m\u001b[0;34m.\u001b[0m\u001b[0mjoin\u001b[0m\u001b[0;34m(\u001b[0m\u001b[0mB_TMP_DIR\u001b[0m\u001b[0;34m,\u001b[0m \u001b[0;34m'vis.json'\u001b[0m\u001b[0;34m)\u001b[0m\u001b[0;34m)\u001b[0m\u001b[0;34m)\u001b[0m\u001b[0;34m\u001b[0m\u001b[0m\n\u001b[0m\u001b[1;32m      3\u001b[0m \u001b[0mglkscores\u001b[0m \u001b[0;34m=\u001b[0m \u001b[0mcPickle\u001b[0m\u001b[0;34m.\u001b[0m\u001b[0mload\u001b[0m\u001b[0;34m(\u001b[0m\u001b[0mopen\u001b[0m\u001b[0;34m(\u001b[0m\u001b[0mos\u001b[0m\u001b[0;34m.\u001b[0m\u001b[0mpath\u001b[0m\u001b[0;34m.\u001b[0m\u001b[0mjoin\u001b[0m\u001b[0;34m(\u001b[0m\u001b[0mOUT_DIR\u001b[0m\u001b[0;34m,\u001b[0m \u001b[0mB_OUT_FILE\u001b[0m\u001b[0;34m)\u001b[0m\u001b[0;34m)\u001b[0m\u001b[0;34m)\u001b[0m\u001b[0;34m\u001b[0m\u001b[0m\n",
      "\u001b[0;32m/usr/local/Cellar/python/2.7.10_1/Frameworks/Python.framework/Versions/2.7/lib/python2.7/json/__init__.pyc\u001b[0m in \u001b[0;36mload\u001b[0;34m(fp, encoding, cls, object_hook, parse_float, parse_int, parse_constant, object_pairs_hook, **kw)\u001b[0m\n\u001b[1;32m    288\u001b[0m         \u001b[0mparse_float\u001b[0m\u001b[0;34m=\u001b[0m\u001b[0mparse_float\u001b[0m\u001b[0;34m,\u001b[0m \u001b[0mparse_int\u001b[0m\u001b[0;34m=\u001b[0m\u001b[0mparse_int\u001b[0m\u001b[0;34m,\u001b[0m\u001b[0;34m\u001b[0m\u001b[0m\n\u001b[1;32m    289\u001b[0m         \u001b[0mparse_constant\u001b[0m\u001b[0;34m=\u001b[0m\u001b[0mparse_constant\u001b[0m\u001b[0;34m,\u001b[0m \u001b[0mobject_pairs_hook\u001b[0m\u001b[0;34m=\u001b[0m\u001b[0mobject_pairs_hook\u001b[0m\u001b[0;34m,\u001b[0m\u001b[0;34m\u001b[0m\u001b[0m\n\u001b[0;32m--> 290\u001b[0;31m         **kw)\n\u001b[0m\u001b[1;32m    291\u001b[0m \u001b[0;34m\u001b[0m\u001b[0m\n\u001b[1;32m    292\u001b[0m \u001b[0;34m\u001b[0m\u001b[0m\n",
      "\u001b[0;32m/usr/local/Cellar/python/2.7.10_1/Frameworks/Python.framework/Versions/2.7/lib/python2.7/json/__init__.pyc\u001b[0m in \u001b[0;36mloads\u001b[0;34m(s, encoding, cls, object_hook, parse_float, parse_int, parse_constant, object_pairs_hook, **kw)\u001b[0m\n\u001b[1;32m    336\u001b[0m             \u001b[0mparse_int\u001b[0m \u001b[0;32mis\u001b[0m \u001b[0mNone\u001b[0m \u001b[0;32mand\u001b[0m \u001b[0mparse_float\u001b[0m \u001b[0;32mis\u001b[0m \u001b[0mNone\u001b[0m \u001b[0;32mand\u001b[0m\u001b[0;34m\u001b[0m\u001b[0m\n\u001b[1;32m    337\u001b[0m             parse_constant is None and object_pairs_hook is None and not kw):\n\u001b[0;32m--> 338\u001b[0;31m         \u001b[0;32mreturn\u001b[0m \u001b[0m_default_decoder\u001b[0m\u001b[0;34m.\u001b[0m\u001b[0mdecode\u001b[0m\u001b[0;34m(\u001b[0m\u001b[0ms\u001b[0m\u001b[0;34m)\u001b[0m\u001b[0;34m\u001b[0m\u001b[0m\n\u001b[0m\u001b[1;32m    339\u001b[0m     \u001b[0;32mif\u001b[0m \u001b[0mcls\u001b[0m \u001b[0;32mis\u001b[0m \u001b[0mNone\u001b[0m\u001b[0;34m:\u001b[0m\u001b[0;34m\u001b[0m\u001b[0m\n\u001b[1;32m    340\u001b[0m         \u001b[0mcls\u001b[0m \u001b[0;34m=\u001b[0m \u001b[0mJSONDecoder\u001b[0m\u001b[0;34m\u001b[0m\u001b[0m\n",
      "\u001b[0;32m/usr/local/Cellar/python/2.7.10_1/Frameworks/Python.framework/Versions/2.7/lib/python2.7/json/decoder.pyc\u001b[0m in \u001b[0;36mdecode\u001b[0;34m(self, s, _w)\u001b[0m\n\u001b[1;32m    364\u001b[0m \u001b[0;34m\u001b[0m\u001b[0m\n\u001b[1;32m    365\u001b[0m         \"\"\"\n\u001b[0;32m--> 366\u001b[0;31m         \u001b[0mobj\u001b[0m\u001b[0;34m,\u001b[0m \u001b[0mend\u001b[0m \u001b[0;34m=\u001b[0m \u001b[0mself\u001b[0m\u001b[0;34m.\u001b[0m\u001b[0mraw_decode\u001b[0m\u001b[0;34m(\u001b[0m\u001b[0ms\u001b[0m\u001b[0;34m,\u001b[0m \u001b[0midx\u001b[0m\u001b[0;34m=\u001b[0m\u001b[0m_w\u001b[0m\u001b[0;34m(\u001b[0m\u001b[0ms\u001b[0m\u001b[0;34m,\u001b[0m \u001b[0;36m0\u001b[0m\u001b[0;34m)\u001b[0m\u001b[0;34m.\u001b[0m\u001b[0mend\u001b[0m\u001b[0;34m(\u001b[0m\u001b[0;34m)\u001b[0m\u001b[0;34m)\u001b[0m\u001b[0;34m\u001b[0m\u001b[0m\n\u001b[0m\u001b[1;32m    367\u001b[0m         \u001b[0mend\u001b[0m \u001b[0;34m=\u001b[0m \u001b[0m_w\u001b[0m\u001b[0;34m(\u001b[0m\u001b[0ms\u001b[0m\u001b[0;34m,\u001b[0m \u001b[0mend\u001b[0m\u001b[0;34m)\u001b[0m\u001b[0;34m.\u001b[0m\u001b[0mend\u001b[0m\u001b[0;34m(\u001b[0m\u001b[0;34m)\u001b[0m\u001b[0;34m\u001b[0m\u001b[0m\n\u001b[1;32m    368\u001b[0m         \u001b[0;32mif\u001b[0m \u001b[0mend\u001b[0m \u001b[0;34m!=\u001b[0m \u001b[0mlen\u001b[0m\u001b[0;34m(\u001b[0m\u001b[0ms\u001b[0m\u001b[0;34m)\u001b[0m\u001b[0;34m:\u001b[0m\u001b[0;34m\u001b[0m\u001b[0m\n",
      "\u001b[0;32m/usr/local/Cellar/python/2.7.10_1/Frameworks/Python.framework/Versions/2.7/lib/python2.7/json/decoder.pyc\u001b[0m in \u001b[0;36mraw_decode\u001b[0;34m(self, s, idx)\u001b[0m\n\u001b[1;32m    382\u001b[0m             \u001b[0mobj\u001b[0m\u001b[0;34m,\u001b[0m \u001b[0mend\u001b[0m \u001b[0;34m=\u001b[0m \u001b[0mself\u001b[0m\u001b[0;34m.\u001b[0m\u001b[0mscan_once\u001b[0m\u001b[0;34m(\u001b[0m\u001b[0ms\u001b[0m\u001b[0;34m,\u001b[0m \u001b[0midx\u001b[0m\u001b[0;34m)\u001b[0m\u001b[0;34m\u001b[0m\u001b[0m\n\u001b[1;32m    383\u001b[0m         \u001b[0;32mexcept\u001b[0m \u001b[0mStopIteration\u001b[0m\u001b[0;34m:\u001b[0m\u001b[0;34m\u001b[0m\u001b[0m\n\u001b[0;32m--> 384\u001b[0;31m             \u001b[0;32mraise\u001b[0m \u001b[0mValueError\u001b[0m\u001b[0;34m(\u001b[0m\u001b[0;34m\"No JSON object could be decoded\"\u001b[0m\u001b[0;34m)\u001b[0m\u001b[0;34m\u001b[0m\u001b[0m\n\u001b[0m\u001b[1;32m    385\u001b[0m         \u001b[0;32mreturn\u001b[0m \u001b[0mobj\u001b[0m\u001b[0;34m,\u001b[0m \u001b[0mend\u001b[0m\u001b[0;34m\u001b[0m\u001b[0m\n",
      "\u001b[0;31mValueError\u001b[0m: No JSON object could be decoded"
     ]
    }
   ],
   "source": [
    "blkin     = cPickle.load(open(os.path.join(IN_DIR, B_OUT_FILE)))\n",
    "blkvis    = json.load(open(os.path.join(B_TMP_DIR, 'vis.json')))\n",
    "glkscores = cPickle.load(open(os.path.join(OUT_DIR, B_OUT_FILE)))"
   ]
  },
  {
   "cell_type": "code",
   "execution_count": null,
   "metadata": {
    "collapsed": true
   },
   "outputs": [],
   "source": [
    "os.listdir()"
   ]
  }
 ],
 "metadata": {
  "kernelspec": {
   "display_name": "Python 2",
   "language": "python",
   "name": "python2"
  },
  "language_info": {
   "codemirror_mode": {
    "name": "ipython",
    "version": 2
   },
   "file_extension": ".py",
   "mimetype": "text/x-python",
   "name": "python",
   "nbconvert_exporter": "python",
   "pygments_lexer": "ipython2",
   "version": "2.7.10"
  }
 },
 "nbformat": 4,
 "nbformat_minor": 0
}
