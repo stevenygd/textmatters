{
 "cells": [
  {
   "cell_type": "markdown",
   "metadata": {},
   "source": [
    "# Small Experiment Data Analysis"
   ]
  },
  {
   "cell_type": "code",
   "execution_count": 1,
   "metadata": {
    "collapsed": true
   },
   "outputs": [],
   "source": [
    "import json\n",
    "from six.moves import cPickle\n",
    "import os\n",
    "import statistics\n",
    "\n",
    "from IPython.core.display import HTML \n",
    "from IPython.core.display import Image, display\n",
    "\n",
    "import matplotlib\n",
    "import numpy as np\n",
    "import matplotlib.pyplot as plt\n",
    "%matplotlib inline  "
   ]
  },
  {
   "cell_type": "code",
   "execution_count": 13,
   "metadata": {
    "collapsed": false
   },
   "outputs": [],
   "source": [
    "\"\"\"\n",
    "Load Coco data\n",
    "\"\"\"\n",
    "COCO_PATH = 'data/coco/'\n",
    "COCO_ANNO_PATH = COCO_PATH + 'annotations/'\n",
    "\n",
    "# load the data from captions\n",
    "with open(COCO_ANNO_PATH + 'captions_train2014.json') as f:\n",
    "    coco_captions = json.load(f)\n",
    "# print len(coco_captions)\n",
    "# with open(COCO_ANNO_PATH + 'captions_val2014.json') as f:\n",
    "#     coco_captions =  dict(coco_captions.items() + json.load(f).items())\n",
    "# print len(coco_captions)\n",
    "\n",
    "# build the reverse dictionary, from img_id to captions, img_infos, and annotations\n",
    "img_captions = {}\n",
    "for img_info in coco_captions['images']:\n",
    "    mid = int(img_info['id'])\n",
    "    if not mid in img_captions:\n",
    "        img_captions[mid] = {}\n",
    "    img_captions[mid]['image'] = img_info\n",
    "\n",
    "for cap_info in coco_captions['annotations']:\n",
    "    mid = int(cap_info['image_id'])\n",
    "    if not 'annotation' in img_captions[mid]:\n",
    "        img_captions[mid]['annotation'] = []\n",
    "        img_captions[mid]['captions'] = []\n",
    "    img_captions[mid]['annotation'].append(cap_info)\n"
   ]
  },
  {
   "cell_type": "code",
   "execution_count": 17,
   "metadata": {
    "collapsed": false
   },
   "outputs": [],
   "source": [
    "IN_FILE_NAME  = 'high_coexist_img_ids.pkl'\n",
    "OUT_FILE_NAME = 'highexist_gaussian'\n",
    "IN_DIR        = 'input'\n",
    "OUT_DIR       = 'output'\n",
    "\n",
    "def get_stat(data):\n",
    "    if len(data)==0: return;\n",
    "    print \"\"\n",
    "    print \"Total:\\t%d;\\t\\tMean:\\t\\t%f;\\tNonezero:\\t%d\"%(len(data), statistics.mean(data), len(filter(lambda x:x!=0, data)))\n",
    "    print \"Median:\\t%f;\\tMedian(H):\\t%f;\\tMedian(L):\\t%f;\"%(statistics.median(data), statistics.median_high(data), statistics.median_low(data))\n",
    "    print \"Max:\\t%f;\\tMin:\\t\\t%f;\\tStd:\\t\\t%f\"%(max(data), min(data),statistics.stdev(data))\n",
    "    print \"\\n\"\n",
    "    \n",
    "def look_up_image(title, idx, in_ids, vis, scores):\n",
    "    print \"[%d]%s\\n\"%(idx,title)\n",
    "    print \"\\tScore:%s;\\tImageId:%s\\n\"%(scores[idx], in_ids[idx])\n",
    "    print \"\\tOriginal Caption:\\n\\t\\t%s;\\n\\tAblation Caption:\\n\\t\\t%s;\"%(vis[idx*2+1]['caption'],vis[idx*2]['caption'])\n",
    "    print \"\\tAnnotated Captions:\\n\"\n",
    "    img_id = int(in_ids[idx])\n",
    "    for idx, note in enumerate(img_captions[img_id]['annotation']):\n",
    "        print \"\\t\\t%d. %s\\n\"%(idx+1, note['caption'])\n",
    "    display(Image(url= img_captions[img_id]['image']['coco_url']))\n",
    "\n",
    "def get_expr_summary(in_file=IN_FILE_NAME, out_file=OUT_FILE_NAME, in_path=IN_DIR, out_path=OUT_DIR, num=5):\n",
    "    in_ids  = cPickle.load(open(os.path.join(in_path, in_file)))\n",
    "    scores  = cPickle.load(open(os.path.join(out_path, \"scores_%s.pkl\"%out_file)))\n",
    "    vis     = json.load(open(os.path.join(out_path, 'vis_%s.json'%out_file)))\n",
    "    print \"Statistics for scores of gaussian filtered ablations:\"\n",
    "    get_stat(scores)\n",
    "\n",
    "    scores_idx = zip(range(len(scores)), scores)\n",
    "    sorted_scores_idx = sorted(scores_idx, key=lambda x: x[1])   # sort by score\n",
    "    for idx, _ in sorted_scores_idx[:num]:\n",
    "        look_up_image(\"Zero Image\",idx, in_ids, vis, scores)\n",
    "\n"
   ]
  },
  {
   "cell_type": "code",
   "execution_count": 18,
   "metadata": {
    "collapsed": false
   },
   "outputs": [
    {
     "name": "stdout",
     "output_type": "stream",
     "text": [
      "Statistics for scores of gaussian filtered ablations:\n",
      "\n",
      "Total:\t1013;\t\tMean:\t\t0.837452;\tNonezero:\t1008\n",
      "Median:\t1.000000;\tMedian(H):\t1.000000;\tMedian(L):\t1.000000;\n",
      "Max:\t1.000000;\tMin:\t\t0.000000;\tStd:\t\t0.276086\n",
      "\n",
      "\n",
      "[107]Zero Image\n",
      "\n",
      "\tScore:0.0;\tImageId:340096\n",
      "\n",
      "\tOriginal Caption:\n",
      "\t\ta stop sign is on the corner of a street;\n",
      "\tAblation Caption:\n",
      "\t\ta person holding a glass of wine in a room;\n",
      "\tAnnotated Captions:\n",
      "\n",
      "\t\t1. A stop sign covered in lights at a street intersection.\n",
      "\n",
      "\t\t2. A stop sign that is decorated with Christmas lights.\n",
      "\n",
      "\t\t3. a decorated lite up stop sign at the corner\n",
      "\n",
      "\t\t4. car comes to the curve to stop at the stop sign\n",
      "\n",
      "\t\t5. A stop sign covered in a white lights. \n",
      "\n"
     ]
    },
    {
     "data": {
      "text/html": [
       "<img src=\"http://mscoco.org/images/340096\"/>"
      ],
      "text/plain": [
       "<IPython.core.display.Image object>"
      ]
     },
     "metadata": {},
     "output_type": "display_data"
    },
    {
     "name": "stdout",
     "output_type": "stream",
     "text": [
      "[427]Zero Image\n",
      "\n",
      "\tScore:0.0;\tImageId:110251\n",
      "\n",
      "\tOriginal Caption:\n",
      "\t\ta street sign on a street corner;\n",
      "\tAblation Caption:\n",
      "\t\ta park bench sitting in the middle of a park;\n",
      "\tAnnotated Captions:\n",
      "\n",
      "\t\t1. A bench sitting on top of a park near a play ground.\n",
      "\n",
      "\t\t2. a fenced in park on a city street\n",
      "\n",
      "\t\t3. a sign showing that there kids playing in the field\n",
      "\n",
      "\t\t4. a sign on a pole near a park \n",
      "\n",
      "\t\t5. A playground with a sign saying caution live children playing.\n",
      "\n"
     ]
    },
    {
     "data": {
      "text/html": [
       "<img src=\"http://mscoco.org/images/110251\"/>"
      ],
      "text/plain": [
       "<IPython.core.display.Image object>"
      ]
     },
     "metadata": {},
     "output_type": "display_data"
    },
    {
     "name": "stdout",
     "output_type": "stream",
     "text": [
      "[550]Zero Image\n",
      "\n",
      "\tScore:0.0;\tImageId:289515\n",
      "\n",
      "\tOriginal Caption:\n",
      "\t\ta street sign on the side of a street;\n",
      "\tAblation Caption:\n",
      "\t\ta car parked in front of a building;\n",
      "\tAnnotated Captions:\n",
      "\n",
      "\t\t1. A sidewalk and doughnut shop with a bike leaning against the building\n",
      "\n",
      "\t\t2. A long shot of a city sidewalk on a sunny day \n",
      "\n",
      "\t\t3. A sign for a doughnut shop on a sidewalk by a street.\n",
      "\n",
      "\t\t4. Donut shop sign on an empty street next to a tree\n",
      "\n",
      "\t\t5. A building with a sign that says Donuts above the door. \n",
      "\n"
     ]
    },
    {
     "data": {
      "text/html": [
       "<img src=\"http://mscoco.org/images/289515\"/>"
      ],
      "text/plain": [
       "<IPython.core.display.Image object>"
      ]
     },
     "metadata": {},
     "output_type": "display_data"
    },
    {
     "name": "stdout",
     "output_type": "stream",
     "text": [
      "[584]Zero Image\n",
      "\n",
      "\tScore:0.0;\tImageId:461464\n",
      "\n",
      "\tOriginal Caption:\n",
      "\t\ta clock on the side of a building;\n",
      "\tAblation Caption:\n",
      "\t\ta train station with a train passing by;\n",
      "\tAnnotated Captions:\n",
      "\n",
      "\t\t1. A train station has a foreign sign and a clock.\n",
      "\n",
      "\t\t2. View from the train at Pistoia station in Italy\n",
      "\n",
      "\t\t3. A clock on a train platform during day time.\n",
      "\n",
      "\t\t4. a clock attached to a pole at a train station\n",
      "\n",
      "\t\t5. A street sign and a clock sitting by a parked train.\n",
      "\n"
     ]
    },
    {
     "data": {
      "text/html": [
       "<img src=\"http://mscoco.org/images/461464\"/>"
      ],
      "text/plain": [
       "<IPython.core.display.Image object>"
      ]
     },
     "metadata": {},
     "output_type": "display_data"
    },
    {
     "name": "stdout",
     "output_type": "stream",
     "text": [
      "[877]Zero Image\n",
      "\n",
      "\tScore:0.0;\tImageId:199678\n",
      "\n",
      "\tOriginal Caption:\n",
      "\t\ta bunch of different types of electronic devices;\n",
      "\tAblation Caption:\n",
      "\t\ta pair of scissors sitting on top of a table;\n",
      "\tAnnotated Captions:\n",
      "\n",
      "\t\t1. A stack of cash sitting under a cell phone.\n",
      "\n",
      "\t\t2. USA 20 dollars totaling $120, held down by a cell phone with Coca cola cans nearby. \n",
      "\n",
      "\t\t3. A bunch of twentys underneath a celll phone\n",
      "\n",
      "\t\t4. Six twenty dollar bills are underneath a phone.\n",
      "\n",
      "\t\t5. A number of twenty dollar bills with a phone\n",
      "\n"
     ]
    },
    {
     "data": {
      "text/html": [
       "<img src=\"http://mscoco.org/images/199678\"/>"
      ],
      "text/plain": [
       "<IPython.core.display.Image object>"
      ]
     },
     "metadata": {},
     "output_type": "display_data"
    }
   ],
   "source": [
    "IN_FILE_NAME  = 'high_coexist_img_ids.pkl'\n",
    "OUT_FILE_NAME = 'highexist_gaussian'\n",
    "get_expr_summary(in_file = IN_FILE_NAME, out_file = OUT_FILE_NAME)"
   ]
  },
  {
   "cell_type": "code",
   "execution_count": 19,
   "metadata": {
    "collapsed": false
   },
   "outputs": [
    {
     "name": "stdout",
     "output_type": "stream",
     "text": [
      "Statistics for scores of gaussian filtered ablations:\n",
      "\n",
      "Total:\t1013;\t\tMean:\t\t0.652322;\tNonezero:\t976\n",
      "Median:\t0.714286;\tMedian(H):\t0.714286;\tMedian(L):\t0.714286;\n",
      "Max:\t1.000000;\tMin:\t\t0.000000;\tStd:\t\t0.348214\n",
      "\n",
      "\n",
      "[30]Zero Image\n",
      "\n",
      "\tScore:0.0;\tImageId:178533\n",
      "\n",
      "\tOriginal Caption:\n",
      "\t\tan airplane is parked on a runway in a field;\n",
      "\tAblation Caption:\n",
      "\t\ta group of people standing around a plane;\n",
      "\tAnnotated Captions:\n",
      "\n",
      "\t\t1. A group of pilots posing in front of a fighter jet.\n",
      "\n",
      "\t\t2. A fighter jet parked behind U.S. Air Force pilots.\n",
      "\n",
      "\t\t3. Air Force member posed in front of a jet \n",
      "\n",
      "\t\t4. a group of people kneeling down next to an air force jet plane\n",
      "\n",
      "\t\t5. A group of pilots posing in front of a jet.\n",
      "\n"
     ]
    },
    {
     "data": {
      "text/html": [
       "<img src=\"http://mscoco.org/images/178533\"/>"
      ],
      "text/plain": [
       "<IPython.core.display.Image object>"
      ]
     },
     "metadata": {},
     "output_type": "display_data"
    },
    {
     "name": "stdout",
     "output_type": "stream",
     "text": [
      "[62]Zero Image\n",
      "\n",
      "\tScore:0.0;\tImageId:8379\n",
      "\n",
      "\tOriginal Caption:\n",
      "\t\ta street sign on the side of the road;\n",
      "\tAblation Caption:\n",
      "\t\ta tv sitting in the middle of a forest;\n",
      "\tAnnotated Captions:\n",
      "\n",
      "\t\t1. An old \"Parking\" sign is attached to a rusted pole.\n",
      "\n",
      "\t\t2. A PICTURE OF A PARKING SIGN ON THE STREET \n",
      "\n",
      "\t\t3. An old rusty pole that has a sign \"Parking\" hanging from it. Across from it is an old brick building with three windows.\n",
      "\n",
      "\t\t4. a pole with a sign underneath a tree and in front of a building\n",
      "\n",
      "\t\t5. a parking sighn on a feild next to a house. \n",
      "\n"
     ]
    },
    {
     "data": {
      "text/html": [
       "<img src=\"http://mscoco.org/images/8379\"/>"
      ],
      "text/plain": [
       "<IPython.core.display.Image object>"
      ]
     },
     "metadata": {},
     "output_type": "display_data"
    },
    {
     "name": "stdout",
     "output_type": "stream",
     "text": [
      "[63]Zero Image\n",
      "\n",
      "\tScore:0.0;\tImageId:466941\n",
      "\n",
      "\tOriginal Caption:\n",
      "\t\ta sign that says UNK UNK on the side of it;\n",
      "\tAblation Caption:\n",
      "\t\ta fire hydrant in the middle of a forest;\n",
      "\tAnnotated Captions:\n",
      "\n",
      "\t\t1. A tall sign advertising Cider in front of a net.\n",
      "\n",
      "\t\t2. A large sign is advertising cold fresh cider.\n",
      "\n",
      "\t\t3. An apple cider sign between colorful Autumn foliage.\n",
      "\n",
      "\t\t4. A painted sign for cold, fresh cider sits outside.\n",
      "\n",
      "\t\t5. This is the place to stop for cold cider on a hot day.\n",
      "\n"
     ]
    },
    {
     "data": {
      "text/html": [
       "<img src=\"http://mscoco.org/images/466941\"/>"
      ],
      "text/plain": [
       "<IPython.core.display.Image object>"
      ]
     },
     "metadata": {},
     "output_type": "display_data"
    },
    {
     "name": "stdout",
     "output_type": "stream",
     "text": [
      "[86]Zero Image\n",
      "\n",
      "\tScore:0.0;\tImageId:352828\n",
      "\n",
      "\tOriginal Caption:\n",
      "\t\ta stop sign on the side of the road;\n",
      "\tAblation Caption:\n",
      "\t\ta car parked in front of a building;\n",
      "\tAnnotated Captions:\n",
      "\n",
      "\t\t1. An old two story house next to a forest.\n",
      "\n",
      "\t\t2. a street sign on a pole with buildings in the background \n",
      "\n",
      "\t\t3. A house that is sitting next to trees.\n",
      "\n",
      "\t\t4. A stop sign across the road from a weathered building.\n",
      "\n",
      "\t\t5. A stop sign is shown, with an abandoned house.\n",
      "\n"
     ]
    },
    {
     "data": {
      "text/html": [
       "<img src=\"http://mscoco.org/images/352828\"/>"
      ],
      "text/plain": [
       "<IPython.core.display.Image object>"
      ]
     },
     "metadata": {},
     "output_type": "display_data"
    },
    {
     "name": "stdout",
     "output_type": "stream",
     "text": [
      "[130]Zero Image\n",
      "\n",
      "\tScore:0.0;\tImageId:504524\n",
      "\n",
      "\tOriginal Caption:\n",
      "\t\ta street sign on a pole in a wooded area;\n",
      "\tAblation Caption:\n",
      "\t\ta black and white photo of a parking meter;\n",
      "\tAnnotated Captions:\n",
      "\n",
      "\t\t1. a close up of a vandalized street sign\n",
      "\n",
      "\t\t2. A wrong way sign under a do not enter sign.\n",
      "\n",
      "\t\t3. Black and white warning signs on roadway pole.\n",
      "\n",
      "\t\t4. Black and white photograph of two signs that read \"do not enter\" and \"wrong way.\"\n",
      "\n",
      "\t\t5. a very big sign showing that no way\n",
      "\n"
     ]
    },
    {
     "data": {
      "text/html": [
       "<img src=\"http://mscoco.org/images/504524\"/>"
      ],
      "text/plain": [
       "<IPython.core.display.Image object>"
      ]
     },
     "metadata": {},
     "output_type": "display_data"
    }
   ],
   "source": [
    "IN_FILE_NAME  = 'high_coexist_img_ids.pkl'\n",
    "OUT_FILE_NAME = 'highexist_blackout'\n",
    "get_expr_summary(in_file = IN_FILE_NAME, out_file = OUT_FILE_NAME)"
   ]
  },
  {
   "cell_type": "code",
   "execution_count": 20,
   "metadata": {
    "collapsed": false
   },
   "outputs": [
    {
     "name": "stdout",
     "output_type": "stream",
     "text": [
      "Statistics for scores of gaussian filtered ablations:\n",
      "\n",
      "Total:\t683;\t\tMean:\t\t0.521510;\tNonezero:\t630\n",
      "Median:\t0.500000;\tMedian(H):\t0.500000;\tMedian(L):\t0.500000;\n",
      "Max:\t1.000000;\tMin:\t\t0.000000;\tStd:\t\t0.352480\n",
      "\n",
      "\n",
      "[23]Zero Image\n",
      "\n",
      "\tScore:0.0;\tImageId:330436\n",
      "\n",
      "\tOriginal Caption:\n",
      "\t\ta man is doing a trick on a skateboard;\n",
      "\tAblation Caption:\n",
      "\t\ta person jumping a skate board in the air;\n",
      "\tAnnotated Captions:\n",
      "\n",
      "\t\t1. a person jumping a skate board in the air\n",
      "\n",
      "\t\t2. This skateboarder is riding the side of his skateboard in the air.\n",
      "\n",
      "\t\t3. The young man is riding his skateboard practicing his moves. \n",
      "\n",
      "\t\t4. A skateboarder is airborne in front of a wall covered in graffiti.\n",
      "\n",
      "\t\t5. A person jumping in the air on a skateboard.\n",
      "\n"
     ]
    },
    {
     "data": {
      "text/html": [
       "<img src=\"http://mscoco.org/images/330436\"/>"
      ],
      "text/plain": [
       "<IPython.core.display.Image object>"
      ]
     },
     "metadata": {},
     "output_type": "display_data"
    },
    {
     "name": "stdout",
     "output_type": "stream",
     "text": [
      "[27]Zero Image\n",
      "\n",
      "\tScore:0.0;\tImageId:375294\n",
      "\n",
      "\tOriginal Caption:\n",
      "\t\ta couple of cell phones sitting on top of a table;\n",
      "\tAblation Caption:\n",
      "\t\ta person is holding a small piece of paper;\n",
      "\tAnnotated Captions:\n",
      "\n",
      "\t\t1. there are 2 tablets, 1 e-reader, and an iphone sitting on the table.\n",
      "\n",
      "\t\t2. a table that has a bunch of ipads on it\n",
      "\n",
      "\t\t3. some different tablets cellphone and a piece of pizza\n",
      "\n",
      "\t\t4. Tablets and a cell phone on a table beside a plate of pizza.\n",
      "\n",
      "\t\t5. Some iPads and phone are on a table with pizza.\n",
      "\n"
     ]
    },
    {
     "data": {
      "text/html": [
       "<img src=\"http://mscoco.org/images/375294\"/>"
      ],
      "text/plain": [
       "<IPython.core.display.Image object>"
      ]
     },
     "metadata": {},
     "output_type": "display_data"
    },
    {
     "name": "stdout",
     "output_type": "stream",
     "text": [
      "[33]Zero Image\n",
      "\n",
      "\tScore:0.0;\tImageId:172316\n",
      "\n",
      "\tOriginal Caption:\n",
      "\t\ta young boy swinging a baseball bat at a ball;\n",
      "\tAblation Caption:\n",
      "\t\ta man standing in front of a wall with a cell phone;\n",
      "\tAnnotated Captions:\n",
      "\n",
      "\t\t1. A boy is swinging at a ball during a baseball game.\n",
      "\n",
      "\t\t2. A boy that is hitting a ball with a baseball bat.\n",
      "\n",
      "\t\t3. A person with a bat and helmet hits a ball.\n",
      "\n",
      "\t\t4. a boy in a yellow and white uniform hitting a baseball\n",
      "\n",
      "\t\t5. A young baseball player is hitting the ball. \n",
      "\n"
     ]
    },
    {
     "data": {
      "text/html": [
       "<img src=\"http://mscoco.org/images/172316\"/>"
      ],
      "text/plain": [
       "<IPython.core.display.Image object>"
      ]
     },
     "metadata": {},
     "output_type": "display_data"
    },
    {
     "name": "stdout",
     "output_type": "stream",
     "text": [
      "[36]Zero Image\n",
      "\n",
      "\tScore:0.0;\tImageId:52943\n",
      "\n",
      "\tOriginal Caption:\n",
      "\t\ta group of men playing a game of soccer;\n",
      "\tAblation Caption:\n",
      "\t\ta baseball player pitching a ball on top of a field;\n",
      "\tAnnotated Captions:\n",
      "\n",
      "\t\t1. Grown men playing an indoor soccer game on turf.\n",
      "\n",
      "\t\t2. A man kicking a soccer ball on a field as others run by.\n",
      "\n",
      "\t\t3. A man is playing soccer during a match. \n",
      "\n",
      "\t\t4. some people playing soccer while a crowd watches them \n",
      "\n",
      "\t\t5. An individual is taken in this very picture. \n",
      "\n",
      "\n"
     ]
    },
    {
     "data": {
      "text/html": [
       "<img src=\"http://mscoco.org/images/52943\"/>"
      ],
      "text/plain": [
       "<IPython.core.display.Image object>"
      ]
     },
     "metadata": {},
     "output_type": "display_data"
    },
    {
     "name": "stdout",
     "output_type": "stream",
     "text": [
      "[42]Zero Image\n",
      "\n",
      "\tScore:0.0;\tImageId:531831\n",
      "\n",
      "\tOriginal Caption:\n",
      "\t\ta man standing in front of a store window;\n",
      "\tAblation Caption:\n",
      "\t\ta living room with a tv and a tv;\n",
      "\tAnnotated Captions:\n",
      "\n",
      "\t\t1. An eight book boxed set collection of a story.\n",
      "\n",
      "\t\t2. A set of books that read \"TINTIN\" on the side of the box set.\n",
      "\n",
      "\t\t3. A  boxed set of books with pictures on them\n",
      "\n",
      "\t\t4. A book set of the adventures of tintin.\n",
      "\n",
      "\t\t5. a close up of a set of books\n",
      "\n"
     ]
    },
    {
     "data": {
      "text/html": [
       "<img src=\"http://mscoco.org/images/531831\"/>"
      ],
      "text/plain": [
       "<IPython.core.display.Image object>"
      ]
     },
     "metadata": {},
     "output_type": "display_data"
    }
   ],
   "source": [
    "IN_FILE_NAME  = 'large_text_img_ids.pkl'\n",
    "OUT_FILE_NAME = 'large_text_blackout'\n",
    "get_expr_summary(in_file = IN_FILE_NAME, out_file = OUT_FILE_NAME)"
   ]
  },
  {
   "cell_type": "code",
   "execution_count": null,
   "metadata": {
    "collapsed": true
   },
   "outputs": [],
   "source": [
    "IN_FILE_NAME  = 'large_text_img_ids.pkl'\n",
    "OUT_FILE_NAME = 'large_text_blackout'\n",
    "get_expr_summary(in_file = IN_FILE_NAME, out_file = OUT_FILE_NAME)"
   ]
  }
 ],
 "metadata": {
  "kernelspec": {
   "display_name": "Python 2",
   "language": "python",
   "name": "python2"
  },
  "language_info": {
   "codemirror_mode": {
    "name": "ipython",
    "version": 2
   },
   "file_extension": ".py",
   "mimetype": "text/x-python",
   "name": "python",
   "nbconvert_exporter": "python",
   "pygments_lexer": "ipython2",
   "version": "2.7.10"
  }
 },
 "nbformat": 4,
 "nbformat_minor": 0
}
